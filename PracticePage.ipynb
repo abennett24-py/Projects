{
 "cells": [
  {
   "cell_type": "code",
   "execution_count": 24,
   "id": "2c91ee26-caee-4520-8db0-7e1b12f3da49",
   "metadata": {},
   "outputs": [
    {
     "name": "stdin",
     "output_type": "stream",
     "text": [
      "What is your name? Alexis\n",
      "How old are you? 31\n"
     ]
    },
    {
     "name": "stdout",
     "output_type": "stream",
     "text": [
      "Alexis\n",
      "31\n"
     ]
    }
   ],
   "source": [
    "name = input(\"What is your name?\") \n",
    "age = input (\"How old are you?\") \n",
    "print(name) \n",
    "print(age) "
   ]
  },
  {
   "cell_type": "code",
   "execution_count": 25,
   "id": "ca1d1442-64a9-46f7-83c1-53f02c4ab413",
   "metadata": {},
   "outputs": [
    {
     "name": "stdout",
     "output_type": "stream",
     "text": [
      "Female Elf\n"
     ]
    }
   ],
   "source": [
    "Race = \"Elf\" \n",
    "Gender = \"Female\" \n",
    "print (Gender, Race) "
   ]
  },
  {
   "cell_type": "code",
   "execution_count": 26,
   "id": "9f92bd6e-f8fa-4d26-9fd7-dbae7c6b550b",
   "metadata": {},
   "outputs": [
    {
     "name": "stdout",
     "output_type": "stream",
     "text": [
      "Remember to take an umbrella.\n"
     ]
    }
   ],
   "source": [
    "rain = True \n",
    "if rain: print (\"Remember to take an umbrella.\") \n",
    "else: print (\"You don't need an umbrella.\") "
   ]
  },
  {
   "cell_type": "code",
   "execution_count": 27,
   "id": "9c2bcec5-5b51-4d66-90b7-51cc21e1d172",
   "metadata": {},
   "outputs": [
    {
     "name": "stdout",
     "output_type": "stream",
     "text": [
      "You don't need an umbrella.\n"
     ]
    }
   ],
   "source": [
    "rain = False \n",
    "if rain: print (\"Remember to take an umbrella.\") \n",
    "else: print (\"You don't need an umbrella.\") "
   ]
  },
  {
   "cell_type": "code",
   "execution_count": 28,
   "id": "e80be0e7-1057-460b-ac5a-93dfb4ddaca2",
   "metadata": {},
   "outputs": [
    {
     "name": "stdout",
     "output_type": "stream",
     "text": [
      "Walk, but you don't need an umbrella.\n"
     ]
    }
   ],
   "source": [
    "rain = False \n",
    "money = False \n",
    "if rain: \n",
    "    if money: \n",
    "        print (\"Take the bus.\") \n",
    "    else: \n",
    "        print (\"Walk but take an umbrella.\") \n",
    "else: \n",
    "    if money: \n",
    "        print (\"Take the bus if you're feeling lazy.\") \n",
    "    else: \n",
    "        print (\"Walk, but you don't need an umbrella.\") "
   ]
  },
  {
   "cell_type": "code",
   "execution_count": 2,
   "id": "237864ac-64da-436b-a187-a9b2a2d0452d",
   "metadata": {},
   "outputs": [
    {
     "name": "stdout",
     "output_type": "stream",
     "text": [
      "There is not enough money in your account to complete your purchase.\n"
     ]
    }
   ],
   "source": [
    "my_money = 9 \n",
    "if my_money > 10: \n",
    "    print (\"You have sufficient funds in your account.\") \n",
    "else: \n",
    "    print (\"There is not enough money in your account to complete your purchase.\") "
   ]
  },
  {
   "cell_type": "code",
   "execution_count": 8,
   "id": "6d568a03-3425-45e8-a12d-0edb43c56461",
   "metadata": {},
   "outputs": [
    {
     "name": "stdout",
     "output_type": "stream",
     "text": [
      "It is cold\n"
     ]
    }
   ],
   "source": [
    "temp = 4\n",
    "if temp > 30: \n",
    "    print (\"It is hot\") \n",
    "else:\n",
    "    print (\"It is cold\") "
   ]
  },
  {
   "cell_type": "code",
   "execution_count": 28,
   "id": "14d408da-1390-4791-889a-055c72878ce1",
   "metadata": {},
   "outputs": [
    {
     "name": "stdin",
     "output_type": "stream",
     "text": [
      "What was your score: 24\n"
     ]
    },
    {
     "name": "stdout",
     "output_type": "stream",
     "text": [
      "You passed\n"
     ]
    }
   ],
   "source": [
    "score = int(input(\"What was your score:\")) \n",
    "if score > 20: \n",
    "    print (\"You passed\") \n",
    "else: \n",
    "    print (\"You failed\") "
   ]
  },
  {
   "cell_type": "code",
   "execution_count": 16,
   "id": "2b6cf8ea-d271-4627-9ed1-4e88babee77b",
   "metadata": {},
   "outputs": [
    {
     "name": "stdout",
     "output_type": "stream",
     "text": [
      "Thank you for depositing £10!\n"
     ]
    }
   ],
   "source": [
    "deposit = 10\n",
    "password = \"password\" \n",
    "if 0 < deposit <= 100 and password == \"password\":\n",
    "    print (f\"Thank you for depositing £{deposit}!\") \n",
    "else: \n",
    "    print (\"Failed to make a deposit\") "
   ]
  },
  {
   "cell_type": "code",
   "execution_count": 24,
   "id": "126986f0-6392-4f8b-b4a6-ed22c562447d",
   "metadata": {},
   "outputs": [
    {
     "name": "stdout",
     "output_type": "stream",
     "text": [
      "Failed to make a deposit.\n"
     ]
    }
   ],
   "source": [
    "deposit = 10 \n",
    "password = \"password\" \n",
    "if not 0 < deposit >= 100 or password != \"password\": \n",
    "    print (\"Failed to make a deposit.\") \n",
    "else: \n",
    "    print (f\"Thank you for depositing £{deposit}!\") "
   ]
  },
  {
   "cell_type": "code",
   "execution_count": 30,
   "id": "95689b13-3695-466a-be67-7ffed2266782",
   "metadata": {},
   "outputs": [
    {
     "name": "stdin",
     "output_type": "stream",
     "text": [
      "Enter your age: 31\n"
     ]
    },
    {
     "name": "stdout",
     "output_type": "stream",
     "text": [
      "You are between 20 and 50\n"
     ]
    }
   ],
   "source": [
    "age = int(input(\"Enter your age:\")) \n",
    "if age >= 85: \n",
    "    print (\"You are above 85\") \n",
    "elif age >= 50: \n",
    "    print (\"You are between 50 and 85\") \n",
    "elif age >= 20: \n",
    "    print (\"You are between 20 and 50\") \n",
    "else: \n",
    "    print (\"You are below 20 years old\") \n",
    "          "
   ]
  },
  {
   "cell_type": "code",
   "execution_count": 40,
   "id": "7e08adca-f518-45b2-a61c-46abf2491e7a",
   "metadata": {},
   "outputs": [
    {
     "name": "stdin",
     "output_type": "stream",
     "text": [
      "What was your percentage rate: 52\n"
     ]
    },
    {
     "name": "stdout",
     "output_type": "stream",
     "text": [
      "You received a pass\n"
     ]
    }
   ],
   "source": [
    "score = int(input(\"What was your percentage rate:\")) \n",
    "if score >= 80: \n",
    "    print (\"You received a pass with distinction\") \n",
    "elif score >= 60: \n",
    "    print (\"You received a pass with a merit\") \n",
    "elif score >= 50: \n",
    "    print (\"You received a pass\") \n",
    "else: \n",
    "    print (\"You failed\") "
   ]
  },
  {
   "cell_type": "code",
   "execution_count": 48,
   "id": "52a9df09-1195-4853-8969-49a004198a9b",
   "metadata": {},
   "outputs": [
    {
     "name": "stdin",
     "output_type": "stream",
     "text": [
      "What is your name Alexis\n"
     ]
    },
    {
     "name": "stdout",
     "output_type": "stream",
     "text": [
      "I am sorry Alexis, you are not in the list.\n"
     ]
    }
   ],
   "source": [
    "register = [\"Khaled\", \"Rob\", \"Sally\", \"Ash\"] \n",
    "name = input (\"What is your name\") \n",
    "if name in register: \n",
    "    print(f\"Welcome {name}.\") \n",
    "else: \n",
    "    print(f\"I am sorry {name}, you are not in the list.\") "
   ]
  },
  {
   "cell_type": "code",
   "execution_count": 50,
   "id": "aae9f30a-178c-4f00-ae84-49be9667832b",
   "metadata": {},
   "outputs": [
    {
     "name": "stdout",
     "output_type": "stream",
     "text": [
      "0\n",
      "1\n",
      "2\n",
      "3\n",
      "4\n"
     ]
    }
   ],
   "source": [
    "num = 0\n",
    "while num < 5: \n",
    "    print (num) \n",
    "    num += 1"
   ]
  },
  {
   "cell_type": "code",
   "execution_count": 58,
   "id": "12d3f7de-9945-4462-853a-053bcab37ac2",
   "metadata": {},
   "outputs": [
    {
     "name": "stdout",
     "output_type": "stream",
     "text": [
      "1 hello\n",
      "2 hello\n",
      "3 hello\n",
      "4 hello\n",
      "5 hello\n"
     ]
    }
   ],
   "source": [
    "i = 1\n",
    "while i <= 5: \n",
    "    print (i, \"hello\") \n",
    "    i = i + 1 "
   ]
  },
  {
   "cell_type": "code",
   "execution_count": 61,
   "id": "2d2ed0c1-14c2-479a-81e5-04a2281cc9ac",
   "metadata": {},
   "outputs": [
    {
     "name": "stdout",
     "output_type": "stream",
     "text": [
      "0\n",
      "1\n",
      "2\n"
     ]
    }
   ],
   "source": [
    "num = 0\n",
    "while num < 10: \n",
    "    print(num) \n",
    "    num = num + 1\n",
    "    if num == 3: \n",
    "        break"
   ]
  },
  {
   "cell_type": "code",
   "execution_count": 67,
   "id": "112b69cc-8cff-43e8-9690-c3f76b1fb3e5",
   "metadata": {},
   "outputs": [
    {
     "name": "stdout",
     "output_type": "stream",
     "text": [
      "1\n",
      "2\n",
      "4\n",
      "5\n",
      "6\n",
      "7\n",
      "8\n",
      "9\n",
      "10\n"
     ]
    }
   ],
   "source": [
    "num = 0\n",
    "while num < 10: \n",
    "    num = num + 1\n",
    "    if num == 3: \n",
    "        continue \n",
    "    print(num) "
   ]
  },
  {
   "cell_type": "code",
   "execution_count": 69,
   "id": "395c749a-f2d7-4a43-b0ec-0d5310cbeb1a",
   "metadata": {},
   "outputs": [
    {
     "name": "stdout",
     "output_type": "stream",
     "text": [
      "1 x 1 is 1.\n",
      "1 x 2 is 2.\n",
      "1 x 3 is 3.\n",
      "1 x 4 is 4.\n",
      "1 x 5 is 5.\n",
      "\n",
      "2 x 1 is 2.\n",
      "2 x 2 is 4.\n",
      "2 x 3 is 6.\n",
      "2 x 4 is 8.\n",
      "2 x 5 is 10.\n",
      "\n",
      "3 x 1 is 3.\n",
      "3 x 2 is 6.\n",
      "3 x 3 is 9.\n",
      "3 x 4 is 12.\n",
      "3 x 5 is 15.\n",
      "\n"
     ]
    }
   ],
   "source": [
    "num1 = 1\n",
    "while num1 <= 3: \n",
    "    num2 = 1\n",
    "    while num2 <= 5: \n",
    "        print(f\"{num1} x {num2} is {num1*num2}.\")\n",
    "        num2 = num2 + 1 \n",
    "    print() \n",
    "    num1 = num1 + 1"
   ]
  },
  {
   "cell_type": "code",
   "execution_count": 5,
   "id": "ac9ed8f8-8f21-4ba2-b7f7-1df72aa5c04c",
   "metadata": {},
   "outputs": [
    {
     "name": "stdout",
     "output_type": "stream",
     "text": [
      "['Apple', 15, 'Table', 4.5, -45]\n",
      "Table\n",
      "['Apple', 15, 'Table']\n",
      "['Table', 4.5, -45]\n",
      "['Apple', 15, 'Coffee', 4.5, -45]\n"
     ]
    }
   ],
   "source": [
    "myList = [\"Apple\", 15, \"Table\", 4.5, -45]\n",
    "print (myList)\n",
    "print (myList [2]) \n",
    "print (myList [:3]) \n",
    "print (myList [2:])\n",
    "myList[2] = \"Coffee\" \n",
    "print (myList) "
   ]
  },
  {
   "cell_type": "code",
   "execution_count": 7,
   "id": "b8876177-67ca-45ac-aede-20fb198842b0",
   "metadata": {},
   "outputs": [
    {
     "name": "stdout",
     "output_type": "stream",
     "text": [
      "['Apple', 15, 'Coffee', 4.5, -45]\n"
     ]
    }
   ],
   "source": [
    "print (myList) "
   ]
  },
  {
   "cell_type": "code",
   "execution_count": 9,
   "id": "4a0344d7-7c68-4c4e-93dd-69bf10776eb0",
   "metadata": {},
   "outputs": [
    {
     "name": "stdout",
     "output_type": "stream",
     "text": [
      "['Cheese', 'Chicken', 'Coffee', 4.5, -45]\n"
     ]
    }
   ],
   "source": [
    "myList [0:2] = \"Cheese\", \"Chicken\"\n",
    "print (myList) "
   ]
  },
  {
   "cell_type": "code",
   "execution_count": 11,
   "id": "a6604136-58d8-4786-93e7-de95df0593ee",
   "metadata": {},
   "outputs": [
    {
     "name": "stdout",
     "output_type": "stream",
     "text": [
      "['Cheese', 'Chicken', 'Coffee', 4.5, -45, 'Pepper']\n"
     ]
    }
   ],
   "source": [
    "myList.append (\"Pepper\") \n",
    "print (myList) "
   ]
  },
  {
   "cell_type": "code",
   "execution_count": 13,
   "id": "9b6b7329-baa0-4175-af1a-9a6b11996f2d",
   "metadata": {},
   "outputs": [
    {
     "name": "stdout",
     "output_type": "stream",
     "text": [
      "['Cheese', 'Coffee', 4.5, -45, 'Pepper']\n"
     ]
    }
   ],
   "source": [
    "myList.remove (\"Chicken\") \n",
    "print (myList) "
   ]
  },
  {
   "cell_type": "code",
   "execution_count": 73,
   "id": "bf50cef5-9335-4576-b8a9-ab271b4219fa",
   "metadata": {},
   "outputs": [
    {
     "name": "stdout",
     "output_type": "stream",
     "text": [
      "8\n",
      "2000\n",
      "300\n",
      "2000 = 4000\n",
      "300 = 600\n",
      "5000 = 10000\n",
      "567 = 1134\n",
      "789 = 1578\n",
      "899 = 1798\n",
      "677 = 1354\n",
      "889 = 1778\n"
     ]
    }
   ],
   "source": [
    "number = 9 \n",
    "salaries = [2000, 300, 5000, 567, 789, 899, 677, 889]\n",
    "print (len(salaries))\n",
    "print (salaries [0])\n",
    "print (salaries [1])\n",
    "for item in salaries: \n",
    "    print (item, \"=\", item*2)"
   ]
  },
  {
   "cell_type": "code",
   "execution_count": 21,
   "id": "282e6930-5a53-4294-a11f-15866cecc15b",
   "metadata": {},
   "outputs": [
    {
     "name": "stdout",
     "output_type": "stream",
     "text": [
      "[2000, 300, 800, 567, 789, 899, 677, 889]\n"
     ]
    }
   ],
   "source": [
    "salaries [2] = 800\n",
    "print (salaries)"
   ]
  },
  {
   "cell_type": "code",
   "execution_count": 27,
   "id": "80b8fd73-92c8-47ba-8a25-e6bac11c9533",
   "metadata": {},
   "outputs": [
    {
     "name": "stdout",
     "output_type": "stream",
     "text": [
      "total 6921\n",
      "Biggest: 2000\n",
      "Smallest: 300\n"
     ]
    }
   ],
   "source": [
    "print (\"total\", sum(salaries))\n",
    "print (\"Biggest:\", max(salaries)) \n",
    "print (\"Smallest:\", min(salaries))"
   ]
  },
  {
   "cell_type": "code",
   "execution_count": 29,
   "id": "af7aba3a-3ca9-46ad-9b81-7903e1597cbd",
   "metadata": {},
   "outputs": [
    {
     "name": "stdout",
     "output_type": "stream",
     "text": [
      "(56, 39, 63, 49, 28)\n"
     ]
    }
   ],
   "source": [
    "testScore = (56, 39, 63, 49, 28)\n",
    "print (testScore) "
   ]
  },
  {
   "cell_type": "code",
   "execution_count": 31,
   "id": "aef790a1-47ed-4e0c-850a-75ac656df215",
   "metadata": {},
   "outputs": [
    {
     "name": "stdout",
     "output_type": "stream",
     "text": [
      "49\n"
     ]
    }
   ],
   "source": [
    "print (testScore [3])"
   ]
  },
  {
   "cell_type": "code",
   "execution_count": 35,
   "id": "9e75c690-a6b5-4aa0-9437-77d3e867be8e",
   "metadata": {},
   "outputs": [
    {
     "name": "stdout",
     "output_type": "stream",
     "text": [
      "{3729, 4001, 2899, 4002, 3317, 4003, 3084, 3902}\n"
     ]
    }
   ],
   "source": [
    "staffID = {3729, 3084, 3902, 3317, 2899}\n",
    "newStaffID = [4001, 4002, 4003] \n",
    "staffID.update (newStaffID) \n",
    "print (staffID) "
   ]
  },
  {
   "cell_type": "code",
   "execution_count": 43,
   "id": "553a30d5-5cc8-4e45-b0d3-3ebef7941e8b",
   "metadata": {},
   "outputs": [
    {
     "name": "stdout",
     "output_type": "stream",
     "text": [
      "{'item1': 32.99, 'item2': 45.99, 'item3': 22.99}\n"
     ]
    }
   ],
   "source": [
    "productRange = {\"item1\":32.99, \"item2\": 45.99, \"item3\": 22.99}\n",
    "print (productRange)"
   ]
  },
  {
   "cell_type": "code",
   "execution_count": 45,
   "id": "b7ba0a9e-8a46-434e-8396-567650b5c34e",
   "metadata": {},
   "outputs": [
    {
     "name": "stdout",
     "output_type": "stream",
     "text": [
      "45.99\n"
     ]
    }
   ],
   "source": [
    "print (productRange [\"item2\"] )"
   ]
  },
  {
   "cell_type": "code",
   "execution_count": 47,
   "id": "1b9ead8f-c152-4ad0-8f1b-f82e8d88e30d",
   "metadata": {},
   "outputs": [
    {
     "name": "stdout",
     "output_type": "stream",
     "text": [
      "{'item1': 32.99, 'item2': 35.99, 'item3': 22.99}\n"
     ]
    }
   ],
   "source": [
    "productRange [\"item2\"] = 35.99\n",
    "print (productRange) "
   ]
  },
  {
   "cell_type": "code",
   "execution_count": 49,
   "id": "d7f09aee-4801-4c4b-931d-0d664ed4e842",
   "metadata": {},
   "outputs": [
    {
     "name": "stdout",
     "output_type": "stream",
     "text": [
      "{'item1': 32.99, 'item2': 35.99, 'item3': 22.99, 'item4': 48.99}\n"
     ]
    }
   ],
   "source": [
    "productRange [\"item4\"] = 48.99\n",
    "print (productRange) "
   ]
  },
  {
   "cell_type": "code",
   "execution_count": 51,
   "id": "4949de38-cb70-4c26-8a14-1a4f94cfe238",
   "metadata": {},
   "outputs": [
    {
     "name": "stdout",
     "output_type": "stream",
     "text": [
      "{'item2': 35.99, 'item3': 22.99, 'item4': 48.99}\n"
     ]
    }
   ],
   "source": [
    "del productRange [\"item1\"] \n",
    "print (productRange)"
   ]
  },
  {
   "cell_type": "code",
   "execution_count": 123,
   "id": "fc0ce48e-1354-4706-8dce-1941fab6ba77",
   "metadata": {},
   "outputs": [
    {
     "name": "stdout",
     "output_type": "stream",
     "text": [
      "item2 x 3 = 107.97\n",
      "item3 x 3 = 68.97\n",
      "item4 x 3 = 146.97\n"
     ]
    }
   ],
   "source": [
    "for price in productRange: \n",
    "    print (f\"{price} x 3 = {productRange[price]*3}\" ) "
   ]
  },
  {
   "cell_type": "code",
   "execution_count": 125,
   "id": "6e7cc3bb-d305-41d2-9033-0287604c9984",
   "metadata": {},
   "outputs": [
    {
     "name": "stdout",
     "output_type": "stream",
     "text": [
      "The price of item2 is £35.99.\n",
      "The price of item3 is £22.99.\n",
      "The price of item4 is £48.99.\n"
     ]
    }
   ],
   "source": [
    "for price in productRange: \n",
    "    print(f\"The price of {price} is £{productRange[price]}.\") "
   ]
  },
  {
   "cell_type": "code",
   "execution_count": 61,
   "id": "196b0b68-ba9a-4cba-b8c1-a4740cadd723",
   "metadata": {},
   "outputs": [
    {
     "name": "stdout",
     "output_type": "stream",
     "text": [
      "5\n",
      "6\n",
      "7\n",
      "8\n",
      "9\n"
     ]
    }
   ],
   "source": [
    "sequence = range (5, 10) \n",
    "for number in sequence: \n",
    "    print (number) "
   ]
  },
  {
   "cell_type": "code",
   "execution_count": 65,
   "id": "917f8b36-bd52-4176-8ea9-975f84594c96",
   "metadata": {},
   "outputs": [
    {
     "name": "stdout",
     "output_type": "stream",
     "text": [
      "100\n",
      "150\n",
      "200\n",
      "250\n",
      "300\n",
      "350\n",
      "400\n",
      "450\n"
     ]
    }
   ],
   "source": [
    "sequence = range (10, 50, 5) \n",
    "for number in sequence: \n",
    "    print (number*10) "
   ]
  },
  {
   "cell_type": "code",
   "execution_count": 103,
   "id": "ac254e00-36c6-4d90-b265-a390f577156c",
   "metadata": {},
   "outputs": [
    {
     "name": "stdout",
     "output_type": "stream",
     "text": [
      "10\n",
      "20\n",
      "30\n",
      "40\n",
      "50\n",
      "60\n",
      "70\n",
      "80\n",
      "90\n",
      "100\n"
     ]
    }
   ],
   "source": [
    "number = range (10, 110, 10)  \n",
    "for item in number: \n",
    "    print (item) "
   ]
  },
  {
   "cell_type": "code",
   "execution_count": 101,
   "id": "fac80736-02d6-4376-a1c2-5dd060f65bfd",
   "metadata": {},
   "outputs": [
    {
     "name": "stdout",
     "output_type": "stream",
     "text": [
      "10\n",
      "20\n",
      "30\n",
      "40\n",
      "50\n",
      "60\n",
      "70\n",
      "80\n",
      "90\n",
      "100\n"
     ]
    }
   ],
   "source": [
    "num = 0 \n",
    "while num < 100: \n",
    "    num = num + 10\n",
    "    print (num) "
   ]
  },
  {
   "cell_type": "code",
   "execution_count": 105,
   "id": "86ef7f6c-124a-412f-89bf-ed4c8c74d196",
   "metadata": {},
   "outputs": [
    {
     "name": "stdout",
     "output_type": "stream",
     "text": [
      "H\n",
      "e\n",
      "l\n",
      "l\n",
      "o\n",
      " \n",
      "w\n",
      "o\n",
      "r\n",
      "l\n",
      "d\n"
     ]
    }
   ],
   "source": [
    "for char in \"Hello world\": \n",
    "    print (char) "
   ]
  },
  {
   "cell_type": "code",
   "execution_count": 107,
   "id": "ab9ed95d-1747-48ad-9572-170b889f166e",
   "metadata": {},
   "outputs": [
    {
     "name": "stdout",
     "output_type": "stream",
     "text": [
      "Hello\n",
      "world\n"
     ]
    }
   ],
   "source": [
    "for word in \"Hello world\".split(): \n",
    "    print (word) "
   ]
  },
  {
   "cell_type": "code",
   "execution_count": 115,
   "id": "e0c632cb-8b77-46ee-bc69-b221e6c75816",
   "metadata": {},
   "outputs": [
    {
     "name": "stdin",
     "output_type": "stream",
     "text": [
      "What word would you like to say? cool\n"
     ]
    },
    {
     "name": "stdout",
     "output_type": "stream",
     "text": [
      "c\n",
      "o\n",
      "o\n",
      "l\n"
     ]
    }
   ],
   "source": [
    "word = input (\"What word would you like to say?\") \n",
    "for char in word: \n",
    "    print (char) "
   ]
  },
  {
   "cell_type": "code",
   "execution_count": 119,
   "id": "bf49029f-cdfe-43db-97e0-3eeb7c514a32",
   "metadata": {},
   "outputs": [
    {
     "name": "stdout",
     "output_type": "stream",
     "text": [
      "apple\n",
      "banana\n",
      "orange\n"
     ]
    }
   ],
   "source": [
    "my_fruit = [\"Apple\", \"Banana\", \"Orange\"] \n",
    "for fruit in my_fruit: \n",
    "    print (fruit.lower())"
   ]
  },
  {
   "cell_type": "code",
   "execution_count": 276,
   "id": "4cad1bb5-ed8a-46a9-9b49-f494ab01585c",
   "metadata": {},
   "outputs": [
    {
     "name": "stdout",
     "output_type": "stream",
     "text": [
      "{'Name': 'Alexis Bennett', 'Age': 31, 'University': 'Roehampton', 'Major': 'Data Science'}\n"
     ]
    }
   ],
   "source": [
    "student = {\n",
    "    \"Name\":\"Alexis Bennett\", \n",
    "           \"Age\":31, \n",
    "           \"University\":\"Roehampton\", \n",
    "           \"Major\":\"Data Science\"\n",
    "} \n",
    "print (student) "
   ]
  },
  {
   "cell_type": "code",
   "execution_count": 282,
   "id": "5a326ea2-79eb-4492-8027-f58ad64a6d82",
   "metadata": {},
   "outputs": [
    {
     "name": "stdout",
     "output_type": "stream",
     "text": [
      "Student Name: Alexis Bennett\n",
      "Student Age: 31\n",
      "Student Uni: Roehampton\n",
      "Student Major: Data Science\n"
     ]
    }
   ],
   "source": [
    "print (\"Student Name:\", student[\"Name\"])\n",
    "print (\"Student Age:\", student[\"Age\"])\n",
    "print (\"Student Uni:\", student[\"University\"]) \n",
    "print (\"Student Major:\", student[\"Major\"])"
   ]
  },
  {
   "cell_type": "code",
   "execution_count": 284,
   "id": "137ff649-cec0-4b21-9569-fd1375bff51f",
   "metadata": {},
   "outputs": [
    {
     "name": "stdout",
     "output_type": "stream",
     "text": [
      "{'Name': 'Alexis Bennett', 'Age': 31, 'University': 'Roehampton', 'Major': 'Computer Science'}\n"
     ]
    }
   ],
   "source": [
    "student[\"Major\"] = \"Computer Science\"\n",
    "print (student) "
   ]
  },
  {
   "cell_type": "code",
   "execution_count": 288,
   "id": "6d9f5551-d175-4b6c-9bdd-10b8fd333aeb",
   "metadata": {},
   "outputs": [
    {
     "name": "stdout",
     "output_type": "stream",
     "text": [
      "{'Name': 'Alexis Bennett', 'Age': 31, 'University': 'Roehampton', 'Major': 'Computer Science', 'Modules': 'Maths and Engineering'}\n"
     ]
    }
   ],
   "source": [
    "student[\"Modules\"] = \"Maths and Engineering\"\n",
    "print (student) "
   ]
  },
  {
   "cell_type": "code",
   "execution_count": 290,
   "id": "16e1f253-74f7-4042-b9ab-afae62b11ec5",
   "metadata": {},
   "outputs": [
    {
     "name": "stdout",
     "output_type": "stream",
     "text": [
      "{'Name': 'Alexis Bennett', 'University': 'Roehampton', 'Major': 'Computer Science', 'Modules': 'Maths and Engineering'}\n"
     ]
    }
   ],
   "source": [
    "del student[\"Age\"]\n",
    "print (student)"
   ]
  },
  {
   "cell_type": "code",
   "execution_count": 294,
   "id": "977119d6-40f5-4ff1-8dab-2c5a3700e815",
   "metadata": {},
   "outputs": [
    {
     "name": "stdout",
     "output_type": "stream",
     "text": [
      "Name\n",
      "University\n",
      "Major\n",
      "Modules\n"
     ]
    }
   ],
   "source": [
    "for info in student: \n",
    "    print (info)"
   ]
  },
  {
   "cell_type": "code",
   "execution_count": 300,
   "id": "c48fa0ff-34df-4bda-9aae-084bead88c7d",
   "metadata": {},
   "outputs": [
    {
     "name": "stdout",
     "output_type": "stream",
     "text": [
      "Alexis Bennett\n",
      "Roehampton\n",
      "Computer Science\n",
      "Maths and Engineering\n"
     ]
    }
   ],
   "source": [
    "for info in student: \n",
    "    print (student[info])"
   ]
  },
  {
   "cell_type": "code",
   "execution_count": 310,
   "id": "92fcd5c6-09c0-45aa-a698-95de03f5da2f",
   "metadata": {},
   "outputs": [
    {
     "name": "stdout",
     "output_type": "stream",
     "text": [
      "Name is Alexis Bennett\n",
      "University is Roehampton\n",
      "Major is Computer Science\n",
      "Modules is Maths and Engineering\n"
     ]
    }
   ],
   "source": [
    "for info in student: \n",
    "    print (f\"{info} is {student[info]}\") "
   ]
  },
  {
   "cell_type": "code",
   "execution_count": 5,
   "id": "17f7d69d-db3d-4b3f-a1df-b7190e139f76",
   "metadata": {},
   "outputs": [
    {
     "name": "stdout",
     "output_type": "stream",
     "text": [
      "20\n"
     ]
    }
   ],
   "source": [
    "def net (income, outgoings): \n",
    "    total = income - outgoings \n",
    "    print (total) \n",
    "\n",
    "net(50, 30)"
   ]
  },
  {
   "cell_type": "code",
   "execution_count": 7,
   "id": "aec029d9-bb14-4082-8cea-dd17c7c1918a",
   "metadata": {},
   "outputs": [
    {
     "name": "stdout",
     "output_type": "stream",
     "text": [
      "661\n",
      "-344\n",
      "317\n"
     ]
    }
   ],
   "source": [
    "def net (income, outgoings): \n",
    "    total = income - outgoings \n",
    "    print (total) \n",
    "    return total \n",
    "\n",
    "jan = net (1239, 578) \n",
    "feb = net (549, 893) \n",
    "\n",
    "monTotal = jan + feb \n",
    "print (monTotal) "
   ]
  },
  {
   "cell_type": "code",
   "execution_count": 13,
   "id": "a80072e2-7ecb-4444-a72b-ffa43b7a0623",
   "metadata": {},
   "outputs": [
    {
     "name": "stdout",
     "output_type": "stream",
     "text": [
      "hello\n",
      "my\n",
      "friends\n",
      "hello\n",
      "my\n",
      "friends\n"
     ]
    }
   ],
   "source": [
    "def message ( ): \n",
    "    print (\"hello\") \n",
    "    print (\"my\") \n",
    "    print (\"friends\") \n",
    "\n"
   ]
  },
  {
   "cell_type": "code",
   "execution_count": 15,
   "id": "fb0968c1-fc19-4d12-9128-85259931dd5f",
   "metadata": {},
   "outputs": [
    {
     "name": "stdout",
     "output_type": "stream",
     "text": [
      "hello\n",
      "my\n",
      "friends\n"
     ]
    }
   ],
   "source": [
    "message ()"
   ]
  },
  {
   "cell_type": "code",
   "execution_count": 23,
   "id": "58f4f9ba-3fa2-4c4a-ac25-135cbe58ed84",
   "metadata": {},
   "outputs": [
    {
     "name": "stdout",
     "output_type": "stream",
     "text": [
      "The result of addition is: 5\n",
      "The result of addition is: 15\n"
     ]
    }
   ],
   "source": [
    "def addition (num1, num2): \n",
    "    result = num1 + num2\n",
    "    print (\"The result of addition is:\", result) \n",
    "\n",
    "addition (2, 3)\n",
    "addition (5, 10)"
   ]
  },
  {
   "cell_type": "code",
   "execution_count": 27,
   "id": "66821f9e-483e-420c-a0fd-18a41d69e171",
   "metadata": {},
   "outputs": [
    {
     "name": "stdin",
     "output_type": "stream",
     "text": [
      "What is your name? Alexis\n"
     ]
    },
    {
     "name": "stdout",
     "output_type": "stream",
     "text": [
      "Hello Alexis\n"
     ]
    }
   ],
   "source": [
    "def greet (name): \n",
    "    return f\"Hello {name}\" \n",
    "\n",
    "name = input (\"What is your name?\") \n",
    "print (greet (name)) "
   ]
  },
  {
   "cell_type": "code",
   "execution_count": 31,
   "id": "1e35b5b8-c6f5-4137-a5e2-3b3987a2b5ad",
   "metadata": {},
   "outputs": [
    {
     "name": "stdout",
     "output_type": "stream",
     "text": [
      "Feb savings total: £1864\n",
      "March savings total: £2364\n"
     ]
    }
   ],
   "source": [
    "def mon_spend (spend, salary = 2000): \n",
    "    total = salary - spend \n",
    "    return total \n",
    "\n",
    "feb = mon_spend (136) \n",
    "print (f\"Feb savings total: £{feb}\") \n",
    "\n",
    "mar = mon_spend (136, 2500) \n",
    "print (f\"March savings total: £{mar}\") "
   ]
  },
  {
   "cell_type": "code",
   "execution_count": 33,
   "id": "40968fdb-9559-4e06-9b5d-947f70c7c491",
   "metadata": {},
   "outputs": [
    {
     "name": "stdout",
     "output_type": "stream",
     "text": [
      "The capital city of Spain is Madrid.\n"
     ]
    }
   ],
   "source": [
    "def capital_city (country, city): \n",
    "    print (f\"The capital city of {country} is {city}.\") \n",
    "\n",
    "capital_city (city = \"Madrid\", country = \"Spain\") "
   ]
  },
  {
   "cell_type": "code",
   "execution_count": 37,
   "id": "6627a49d-d7eb-4f78-8a13-76a7eb30fe63",
   "metadata": {},
   "outputs": [
    {
     "name": "stdout",
     "output_type": "stream",
     "text": [
      "Error: Division by zero is not allowed.\n",
      "End of program.\n"
     ]
    }
   ],
   "source": [
    "try: \n",
    "    result = 10/0\n",
    "except ZeroDivisionError: \n",
    "    print (\"Error: Division by zero is not allowed.\") \n",
    "else: \n",
    "    print (f\"The answer is {result}.\") \n",
    "finally: \n",
    "    print (\"End of program.\") "
   ]
  },
  {
   "cell_type": "code",
   "execution_count": 53,
   "id": "d5f3da82-3bed-4a36-a4b3-2eff4576bd71",
   "metadata": {},
   "outputs": [
    {
     "name": "stdin",
     "output_type": "stream",
     "text": [
      "How old are you? thirty\n"
     ]
    },
    {
     "name": "stdout",
     "output_type": "stream",
     "text": [
      "That is not a valid age.\n"
     ]
    }
   ],
   "source": [
    "try: \n",
    "    age = int(input (\"How old are you?\")) \n",
    "except ValueError: \n",
    "    print(\"That is not a valid age.\") \n",
    "else: \n",
    "    print(f\"You will be {age + 5} in five years' time\") "
   ]
  },
  {
   "cell_type": "code",
   "execution_count": 55,
   "id": "a80c3a0d-341e-477b-90b2-03323f3265ba",
   "metadata": {},
   "outputs": [
    {
     "name": "stdin",
     "output_type": "stream",
     "text": [
      "How old are you? thirty\n"
     ]
    },
    {
     "name": "stdout",
     "output_type": "stream",
     "text": [
      "That is not a valid age.\n"
     ]
    },
    {
     "name": "stdin",
     "output_type": "stream",
     "text": [
      "How old are you? 30\n"
     ]
    },
    {
     "name": "stdout",
     "output_type": "stream",
     "text": [
      "You will be 35 in five years' time.\n"
     ]
    }
   ],
   "source": [
    "while True: \n",
    "    try: \n",
    "        age = int(input(\"How old are you?\")) \n",
    "    except ValueError: \n",
    "        print(\"That is not a valid age.\")\n",
    "    else: \n",
    "        print(f\"You will be {age + 5} in five years' time.\") \n",
    "        break "
   ]
  },
  {
   "cell_type": "code",
   "execution_count": 59,
   "id": "dc298c7d-f899-4b3d-9e3a-b1dc0eb35850",
   "metadata": {},
   "outputs": [
    {
     "name": "stdin",
     "output_type": "stream",
     "text": [
      "Enter a number: 49\n"
     ]
    },
    {
     "name": "stdout",
     "output_type": "stream",
     "text": [
      "7.0\n"
     ]
    }
   ],
   "source": [
    "import math\n",
    "number = float (input(\"Enter a number:\")) \n",
    "answer = math.sqrt(number) \n",
    "print(answer) "
   ]
  },
  {
   "cell_type": "code",
   "execution_count": 61,
   "id": "21ab34d4-b7a9-4a37-98a7-57b9a250086d",
   "metadata": {},
   "outputs": [
    {
     "name": "stdout",
     "output_type": "stream",
     "text": [
      "['__doc__', '__loader__', '__name__', '__package__', '__spec__', 'acos', 'acosh', 'asin', 'asinh', 'atan', 'atan2', 'atanh', 'cbrt', 'ceil', 'comb', 'copysign', 'cos', 'cosh', 'degrees', 'dist', 'e', 'erf', 'erfc', 'exp', 'exp2', 'expm1', 'fabs', 'factorial', 'floor', 'fmod', 'frexp', 'fsum', 'gamma', 'gcd', 'hypot', 'inf', 'isclose', 'isfinite', 'isinf', 'isnan', 'isqrt', 'lcm', 'ldexp', 'lgamma', 'log', 'log10', 'log1p', 'log2', 'modf', 'nan', 'nextafter', 'perm', 'pi', 'pow', 'prod', 'radians', 'remainder', 'sin', 'sinh', 'sqrt', 'sumprod', 'tan', 'tanh', 'tau', 'trunc', 'ulp']\n"
     ]
    }
   ],
   "source": [
    "print(dir(math))"
   ]
  },
  {
   "cell_type": "code",
   "execution_count": 63,
   "id": "82ab342e-83b9-4356-a2b9-a6fd0b459972",
   "metadata": {},
   "outputs": [
    {
     "name": "stdout",
     "output_type": "stream",
     "text": [
      "16\n",
      "26\n",
      "16\n",
      "26\n",
      "29\n"
     ]
    }
   ],
   "source": [
    "from math import pi, ceil \n",
    "from random import randint \n",
    "\n",
    "def random_pi ( ): \n",
    "    return ceil(randint(1,10) * pi) \n",
    "\n",
    "for _ in range (5): \n",
    "    print(random_pi( ))"
   ]
  },
  {
   "cell_type": "code",
   "execution_count": null,
   "id": "0cd4edab-7dd3-4f6a-b694-e96b0311784d",
   "metadata": {},
   "outputs": [],
   "source": []
  },
  {
   "cell_type": "code",
   "execution_count": null,
   "id": "0ad32603-cc0e-4563-a8f1-c81335810226",
   "metadata": {},
   "outputs": [],
   "source": []
  }
 ],
 "metadata": {
  "kernelspec": {
   "display_name": "Python 3 (ipykernel)",
   "language": "python",
   "name": "python3"
  },
  "language_info": {
   "codemirror_mode": {
    "name": "ipython",
    "version": 3
   },
   "file_extension": ".py",
   "mimetype": "text/x-python",
   "name": "python",
   "nbconvert_exporter": "python",
   "pygments_lexer": "ipython3",
   "version": "3.12.7"
  }
 },
 "nbformat": 4,
 "nbformat_minor": 5
}
